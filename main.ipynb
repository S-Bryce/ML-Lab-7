{
 "cells": [
  {
   "cell_type": "markdown",
   "source": [
    "Python Group\n",
    "Lab Assignment Seven: RNNs\n",
    "Wali Chaudhary, Bryce Shurts, & Alex Wright"
   ],
   "metadata": {
    "collapsed": false
   }
  },
  {
   "cell_type": "markdown",
   "source": [
    "# Business Understanding\n",
    "\n",
    "The dataset is sourced from data.world on Kaggle, and is called \"Emotion Detection from Text\". It was distributed by data.world under a public license according to the source. The dataset is a collection of tweets annotated with emotions attached to each sample.\n",
    "\n",
    "There exist 3 columns, \"tweet_id\", \"sentiment\", and \"content\". Tweet_id represents the identification number of the tweet for querying with the Twitter API, sentiment is the classification of emotion associated with the content, and content is the raw text from the tweet.\n",
    "\n",
    "The dataset contains 13 different emotions, with 40000 records. The dataset is imbalanced, as there are a different number of records per emotion, so this must be addressed in preprocessing the data.\n"
   ],
   "metadata": {
    "collapsed": false
   }
  },
  {
   "cell_type": "markdown",
   "source": [
    "# Preparation\n",
    "\n",
    "\n",
    "#### Splitting the data\n",
    "We will be using Stratified K-Fold Cross Validation to split our data into training and testing sets. We chose this method based on the structure of our dataset.\n",
    "\n",
    "The dataset contains imbalanced classes, so we want to ensure that the distribution of the training & testing sets are representative of the overall distribution of classes in the dataset and is beneficial to reducing bias. Features like the sentiment feature are imbalanced with each of the 13 values associated with it having a different distribution across the dataset. Stratified K-Fold Cross Validation ensures this proportionality of distribution, unlike a normal train test split which randomly splits the data into two sets based on a predefined ratio. This can result in a skewed representation of classes in the training & testing datasets not representative of the distribution of the entire dataset.\n",
    "\n",
    "Stratified K-Fold Cross Validation also gives us the advantage of being able to compare different models as each model is trained differently per fold. This will help us in hyper parameter tuning.\n",
    "\n",
    "\n",
    "#### Tokenization methods, Vocabulary, and content length\n",
    "\n",
    "We use the Keras Tokenizer class to tokenize the text data in our dataset. We convert each tweet's text into a sequence of integers, where each integer represents a unique word in the vocabulary. The Tokenizer also takes care of lowercasing, removing punctuation, and handling out-of-vocabulary words.\n",
    "\n",
    "We defined our vocabulary to use all the unique words in \"content\", this was because we didn't want to lose any data as we thought this would also generalize our model better overall."
   ],
   "metadata": {
    "collapsed": false
   }
  },
  {
   "cell_type": "code",
   "execution_count": 97,
   "outputs": [],
   "source": [
    "# Handle all imports for notebook\n",
    "\n",
    "import pandas as pd\n",
    "from pandas import DataFrame\n",
    "import seaborn as sns\n",
    "import numpy as np\n",
    "from numpy import expand_dims\n",
    "import os\n",
    "os.environ['TF_CPP_MIN_LOG_LEVEL'] = '1'\n",
    "import tensorflow as tf\n",
    "from tensorflow import keras\n",
    "from PIL import Image\n",
    "from os import listdir\n",
    "from os.path import isfile, join\n",
    "from skimage.transform import resize\n",
    "from sklearn import preprocessing\n",
    "from sklearn.preprocessing import LabelEncoder\n",
    "from sklearn.preprocessing import StandardScaler\n",
    "from sklearn.model_selection import StratifiedKFold\n",
    "from sklearn import metrics as mt\n",
    "import pprint\n",
    "from matplotlib import pyplot as plt\n",
    "from keras.layers import Dense, Activation, Input\n",
    "from keras.models import Model\n",
    "from keras.models import Sequential\n",
    "from keras.utils import plot_model\n",
    "from keras.layers import Embedding\n",
    "from keras.layers import concatenate\n",
    "from sklearn.model_selection import train_test_split\n",
    "from keras.layers import Reshape\n",
    "from keras.layers import Dense, Dropout, Activation, Flatten\n",
    "from keras.layers import Conv2D, MaxPooling2D\n",
    "from tensorflow.keras.models import Sequential\n",
    "from tensorflow.keras.layers import Conv2D, MaxPooling2D, Activation, Flatten, Dense, Dropout, GlobalAveragePooling2D\n",
    "from tensorflow.keras.optimizers import Adam\n",
    "from sklearn.model_selection import StratifiedShuffleSplit\n",
    "from tensorflow.keras.utils import img_to_array\n",
    "from sklearn.metrics import roc_curve, auc, accuracy_score, confusion_matrix, classification_report\n",
    "from tensorflow.keras.preprocessing.text import Tokenizer\n",
    "from tensorflow.keras.preprocessing.sequence import pad_sequences\n",
    "from sklearn.preprocessing import OneHotEncoder"
   ],
   "metadata": {
    "collapsed": false,
    "ExecuteTime": {
     "start_time": "2023-05-09T03:20:20.327349Z",
     "end_time": "2023-05-09T03:20:20.332058Z"
    }
   }
  },
  {
   "cell_type": "code",
   "execution_count": 98,
   "outputs": [],
   "source": [
    "df = pd.read_csv(\"tweet_emotions.csv\")"
   ],
   "metadata": {
    "collapsed": false,
    "ExecuteTime": {
     "start_time": "2023-05-09T03:20:20.574487Z",
     "end_time": "2023-05-09T03:20:20.650688Z"
    }
   }
  },
  {
   "cell_type": "code",
   "execution_count": 99,
   "outputs": [
    {
     "data": {
      "text/plain": "           content                                                            \\\n             count unique                                                top   \nsentiment                                                                      \nanger          110    110                              fuckin'm transtelecom   \nboredom        179    179                                       i'm so tired   \nempty          827    827  @tiffanylue i know  i was listenin to bad habi...   \nenthusiasm     759    759               wants to hang out with friends SOON!   \nfun           1776   1776  Wondering why I'm awake at 7am,writing a new s...   \nhappiness     5209   5194  FREE UNLIMITED RINGTONES!!! - http://tinyurl.c...   \nhate          1323   1323  It is so annoying when she starts typing on he...   \nlove          3842   3801  I just received a mothers day card from my lov...   \nneutral       8638   8617  FREE UNLIMITED RINGTONES!!! - http://tinyurl.c...   \nrelief        1526   1524  http://snipurl.com/hq0n1 Just printed my mom a...   \nsadness       5165   5160                                       at home sick   \nsurprise      2187   2187                                       Got the news   \nworry         8459   8452                                  i have a headache   \n\n                 \n           freq  \nsentiment        \nanger         1  \nboredom       1  \nempty         1  \nenthusiasm    1  \nfun           1  \nhappiness     4  \nhate          1  \nlove         13  \nneutral       4  \nrelief        2  \nsadness       2  \nsurprise      1  \nworry         3  ",
      "text/html": "<div>\n<style scoped>\n    .dataframe tbody tr th:only-of-type {\n        vertical-align: middle;\n    }\n\n    .dataframe tbody tr th {\n        vertical-align: top;\n    }\n\n    .dataframe thead tr th {\n        text-align: left;\n    }\n\n    .dataframe thead tr:last-of-type th {\n        text-align: right;\n    }\n</style>\n<table border=\"1\" class=\"dataframe\">\n  <thead>\n    <tr>\n      <th></th>\n      <th colspan=\"4\" halign=\"left\">content</th>\n    </tr>\n    <tr>\n      <th></th>\n      <th>count</th>\n      <th>unique</th>\n      <th>top</th>\n      <th>freq</th>\n    </tr>\n    <tr>\n      <th>sentiment</th>\n      <th></th>\n      <th></th>\n      <th></th>\n      <th></th>\n    </tr>\n  </thead>\n  <tbody>\n    <tr>\n      <th>anger</th>\n      <td>110</td>\n      <td>110</td>\n      <td>fuckin'm transtelecom</td>\n      <td>1</td>\n    </tr>\n    <tr>\n      <th>boredom</th>\n      <td>179</td>\n      <td>179</td>\n      <td>i'm so tired</td>\n      <td>1</td>\n    </tr>\n    <tr>\n      <th>empty</th>\n      <td>827</td>\n      <td>827</td>\n      <td>@tiffanylue i know  i was listenin to bad habi...</td>\n      <td>1</td>\n    </tr>\n    <tr>\n      <th>enthusiasm</th>\n      <td>759</td>\n      <td>759</td>\n      <td>wants to hang out with friends SOON!</td>\n      <td>1</td>\n    </tr>\n    <tr>\n      <th>fun</th>\n      <td>1776</td>\n      <td>1776</td>\n      <td>Wondering why I'm awake at 7am,writing a new s...</td>\n      <td>1</td>\n    </tr>\n    <tr>\n      <th>happiness</th>\n      <td>5209</td>\n      <td>5194</td>\n      <td>FREE UNLIMITED RINGTONES!!! - http://tinyurl.c...</td>\n      <td>4</td>\n    </tr>\n    <tr>\n      <th>hate</th>\n      <td>1323</td>\n      <td>1323</td>\n      <td>It is so annoying when she starts typing on he...</td>\n      <td>1</td>\n    </tr>\n    <tr>\n      <th>love</th>\n      <td>3842</td>\n      <td>3801</td>\n      <td>I just received a mothers day card from my lov...</td>\n      <td>13</td>\n    </tr>\n    <tr>\n      <th>neutral</th>\n      <td>8638</td>\n      <td>8617</td>\n      <td>FREE UNLIMITED RINGTONES!!! - http://tinyurl.c...</td>\n      <td>4</td>\n    </tr>\n    <tr>\n      <th>relief</th>\n      <td>1526</td>\n      <td>1524</td>\n      <td>http://snipurl.com/hq0n1 Just printed my mom a...</td>\n      <td>2</td>\n    </tr>\n    <tr>\n      <th>sadness</th>\n      <td>5165</td>\n      <td>5160</td>\n      <td>at home sick</td>\n      <td>2</td>\n    </tr>\n    <tr>\n      <th>surprise</th>\n      <td>2187</td>\n      <td>2187</td>\n      <td>Got the news</td>\n      <td>1</td>\n    </tr>\n    <tr>\n      <th>worry</th>\n      <td>8459</td>\n      <td>8452</td>\n      <td>i have a headache</td>\n      <td>3</td>\n    </tr>\n  </tbody>\n</table>\n</div>"
     },
     "execution_count": 99,
     "metadata": {},
     "output_type": "execute_result"
    }
   ],
   "source": [
    "df.dropna(axis=0, inplace=True)\n",
    "df.drop(\"tweet_id\", inplace=True, axis=1)\n",
    "\n",
    "df.groupby(df[\"sentiment\"]).describe()"
   ],
   "metadata": {
    "collapsed": false,
    "ExecuteTime": {
     "start_time": "2023-05-09T03:20:20.657716Z",
     "end_time": "2023-05-09T03:20:20.721262Z"
    }
   }
  },
  {
   "cell_type": "markdown",
   "source": [
    "This shows us that the sentiment feature is very imbalanced, with each of its 13 values having a different distribution across the dataset. The highest value, happiness with 5209 in count is significantly higher than the lowest count, anger, which has only 110 records."
   ],
   "metadata": {
    "collapsed": false
   }
  },
  {
   "cell_type": "code",
   "execution_count": 100,
   "outputs": [],
   "source": [
    "# Define the Stratified Shuffle Split object\n",
    "n_splits = 3\n",
    "test_size = 0.2\n",
    "sss = StratifiedShuffleSplit(n_splits=n_splits, test_size=test_size, random_state=42)\n",
    "\n",
    "X, y = df.drop(\"sentiment\", inplace=False, axis=1), df[\"sentiment\"]"
   ],
   "metadata": {
    "collapsed": false,
    "ExecuteTime": {
     "start_time": "2023-05-09T03:20:20.734223Z",
     "end_time": "2023-05-09T03:20:20.741082Z"
    }
   }
  },
  {
   "cell_type": "code",
   "execution_count": 101,
   "outputs": [],
   "source": [
    "#tokenize the text, use entire vocabulary\n",
    "tokenizer = Tokenizer(num_words=None)\n",
    "y_np = y.to_numpy().reshape(-1, 1)\n",
    "\n",
    "# save as sequences with integers replacing words\n",
    "tokenizer.fit_on_texts(X.content)\n",
    "sequences = tokenizer.texts_to_sequences(X.content)\n",
    "sequences = np.array(sequences, dtype=object)\n",
    "\n",
    "encoder = OneHotEncoder(handle_unknown='ignore')\n",
    "target = encoder.fit_transform(y_np).toarray()\n",
    "\n",
    "# Default padding is to the longest sequence\n",
    "for train_index, test_index in sss.split(sequences, target):\n",
    "    X_train, X_test = pad_sequences(sequences[train_index]), pad_sequences(sequences[test_index])\n",
    "    y_train, y_test = target[train_index], target[test_index]"
   ],
   "metadata": {
    "collapsed": false,
    "ExecuteTime": {
     "start_time": "2023-05-09T03:20:20.746945Z",
     "end_time": "2023-05-09T03:20:22.876505Z"
    }
   }
  },
  {
   "cell_type": "code",
   "execution_count": 101,
   "outputs": [],
   "source": [],
   "metadata": {
    "collapsed": false,
    "ExecuteTime": {
     "start_time": "2023-05-09T03:20:22.886196Z",
     "end_time": "2023-05-09T03:20:22.888748Z"
    }
   }
  },
  {
   "cell_type": "code",
   "execution_count": null,
   "outputs": [],
   "source": [],
   "metadata": {
    "collapsed": false
   }
  },
  {
   "cell_type": "code",
   "execution_count": null,
   "outputs": [],
   "source": [],
   "metadata": {
    "collapsed": false
   }
  }
 ],
 "metadata": {
  "kernelspec": {
   "name": "school-ipython-kernel",
   "language": "python",
   "display_name": "school-ipython-kernel"
  },
  "language_info": {
   "codemirror_mode": {
    "name": "ipython",
    "version": 2
   },
   "file_extension": ".py",
   "mimetype": "text/x-python",
   "name": "python",
   "nbconvert_exporter": "python",
   "pygments_lexer": "ipython2",
   "version": "2.7.6"
  }
 },
 "nbformat": 4,
 "nbformat_minor": 0
}
